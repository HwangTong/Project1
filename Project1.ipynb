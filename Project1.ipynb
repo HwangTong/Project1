{
  "nbformat": 4,
  "nbformat_minor": 0,
  "metadata": {
    "colab": {
      "name": "Project1",
      "private_outputs": true,
      "provenance": []
    },
    "kernelspec": {
      "name": "python3",
      "display_name": "Python 3"
    },
    "language_info": {
      "name": "python"
    }
  },
  "cells": [
    {
      "cell_type": "markdown",
      "source": [
        "# **다음 분기에 어떤 게임을 설계해야 할까?**\n",
        "\n",
        "> `Name` : 게임의 이름입니다.  \n",
        "`Platform` : 게임이 지원되는 플랫폼의 이름입니다.  \n",
        "`Year` : 게임이 출시된 연도입니다.  \n",
        "`Genre` : 게임의 장르입니다.  \n",
        "`Publisher` : 게임을 제작한 회사입니다.  \n",
        "`NA_Sales` : 북미지역에서의 출고량입니다.  \n",
        "`EU_Sales` : 유럽지역에서의 출고량입니다.  \n",
        "`JP_Sales` : 일본지역에서의 출고량입니다.  \n",
        "`Other_Sales` : 기타지역에서의 출고량입니다.  \n",
        "\n",
        "\n",
        "> - 지역에 따라서 선호하는 게임 장르가 다를까   \n",
        "- 연도별 게임의 트렌드가 있을까  \n",
        "- 출고량이 높은 게임에 대한 분석 및 시각화 프로세스\n",
        "\n",
        "\n",
        "\n"
      ],
      "metadata": {
        "id": "KXCdDZF7xjEU"
      }
    },
    {
      "cell_type": "markdown",
      "source": [
        "# **1. 전처리**\n",
        "\n",
        "\n"
      ],
      "metadata": {
        "id": "hqskutgbMQqf"
      }
    },
    {
      "cell_type": "code",
      "execution_count": null,
      "metadata": {
        "id": "dq9xCkNgMMpB"
      },
      "outputs": [],
      "source": [
        "# 데이터 불러오기\n",
        "\n",
        "import pandas as pd\n",
        "import numpy as np\n",
        "import matplotlib.pyplot as plt\n",
        "import seaborn as sns\n",
        "\n",
        "data = pd.read_csv('vgames2.csv', index_col=0)\n",
        "data.sample(10)"
      ]
    },
    {
      "cell_type": "code",
      "source": [
        "# 데이터 복사\n",
        "df = data.copy()"
      ],
      "metadata": {
        "id": "j6gyvapTM2ZD"
      },
      "execution_count": null,
      "outputs": []
    },
    {
      "cell_type": "code",
      "source": [
        "# 데이터 결측치, 타입, 행/렬 개수 확인\n",
        "df.info()"
      ],
      "metadata": {
        "id": "JK2LsCbWM91C"
      },
      "execution_count": null,
      "outputs": []
    },
    {
      "cell_type": "markdown",
      "source": [
        "# 전처리 해야 할 것.\n",
        "\n",
        "> \n",
        "\n",
        "- NA_Sales, EU_Sales, JP_Sales, Other_Sales 컬럼에 들어가 있는 숫자가 아닌 문자열을 제거하고 float 형태로 바꿔야 한다. \n",
        "- Genre 컬럼의 결측치를 처리해야 한다.  \n",
        "- Publisher 컬럼의 결측치를 처리해야 한다.\n",
        "- Year 컬럼의 결측치를 처리하고, 타입을 int로 바꿔야 한다.  \n",
        "- 각 컬럼의 이상치를 제거해야 한다."
      ],
      "metadata": {
        "id": "lwL33oM5NF4-"
      }
    },
    {
      "cell_type": "code",
      "source": [
        "# NA_Sales, EU_Sales, JP_Sales, Other_Sales 컬럼에 들어가 있는 숫자가 아닌 문자열을 제거하고 float 형태로 바꿔야 한다.\n",
        "for column in df.iloc[:,5:].columns:\n",
        "  df[column][df[column].str.contains('M')] = df[column][df[column].str.contains('M')].str.replace('M', '')\n",
        "  df[column][df[column].str.contains('K')] = df[column][df[column].str.contains('K')].str.replace('K', '').astype(float)/1000\n",
        "  df[column] = df[column].astype(float)"
      ],
      "metadata": {
        "id": "iNL1NJXcNEJA"
      },
      "execution_count": null,
      "outputs": []
    },
    {
      "cell_type": "code",
      "source": [
        "# Genre 컬럼의 결측치를 처리해야 한다.\n",
        "# 데이터의 샘플링 해본 결과, 이름이 같으면 장르도 같은 것을 확인했으므로 이름이 같은 게임 행이 존재 하는지 확인하고 있으면 장르 결측치를 채워준다.\n",
        "\n",
        "# 이름이 겹치는 행들을 데이터프레임으로 추출.\n",
        "df[df.duplicated(subset=['Name'], keep=False)]\n",
        "# df_duplicate에 할당.\n",
        "df_duplicate = df[df.duplicated(subset=['Name'], keep=False)]\n",
        "# 여기서 Genre 컬럼의 결측치 확인\n",
        "df_duplicate[df_duplicate.Genre.isnull()]\n",
        "# 결측치가 있는 행을 인덱스로 추출하여 genre_nan에 할당\n",
        "genre_nan = df_duplicate[df_duplicate.Genre.isnull()].index"
      ],
      "metadata": {
        "id": "S9V8KfgCR_bM"
      },
      "execution_count": null,
      "outputs": []
    },
    {
      "cell_type": "code",
      "source": [
        "# 채워줄 장르 결측치 값을 리스트에 저장\n",
        "genre_change = []\n",
        "\n",
        "for index in genre_nan:\n",
        "  change = df_duplicate.query('Name == @df_duplicate.Name[@index]')[df_duplicate.query('Name == @df_duplicate.Name[@index]').Genre.notnull()].iloc[0,3]\n",
        "  genre_change.append(change)"
      ],
      "metadata": {
        "id": "zKe1JIMJS6ee"
      },
      "execution_count": null,
      "outputs": []
    },
    {
      "cell_type": "code",
      "source": [
        "# 결측치 대체\n",
        "df.loc[genre_nan,['Genre']] = genre_change"
      ],
      "metadata": {
        "id": "Svqtjm7iV2hq"
      },
      "execution_count": null,
      "outputs": []
    },
    {
      "cell_type": "code",
      "source": [
        "# Genre 컬럼의 나머지 결측치와 Publisher 컬럼의 결측치는 대체할 수 있는 값이 없으므로 제거함.\n",
        "df = df.drop(df[df.Genre.isnull() | df.Publisher.isnull()].index).reset_index(drop=True)"
      ],
      "metadata": {
        "id": "sJ1J_Uo4Znvn"
      },
      "execution_count": null,
      "outputs": []
    },
    {
      "cell_type": "code",
      "source": [
        "df.describe()"
      ],
      "metadata": {
        "id": "cclfmQQNfRlL"
      },
      "execution_count": null,
      "outputs": []
    },
    {
      "cell_type": "code",
      "source": [
        "# Year의 결측치 중 출고량이 큰 값들이므로 제거하지 않고, 대체해준다.\n",
        "df[df.Year.isnull()].query('NA_Sales > 0.5 | EU_Sales > 0.5 | JP_Sales > 0.5 | Other_Sales > 0.5')\n",
        "nan_Year = df[df.Year.isnull()].query('NA_Sales > 0.5 | EU_Sales > 0.5 | JP_Sales > 0.5 | Other_Sales > 0.5').index"
      ],
      "metadata": {
        "id": "S3C5pilHgxH8"
      },
      "execution_count": null,
      "outputs": []
    },
    {
      "cell_type": "code",
      "source": [
        "# 구글 서칭으로 직접 데이터 가져옴.\n",
        "Year_change = [2007, 2011, 2005, 2001, 1997, 2008, 1999, 2002, 2008, 2010, 2002, 1980, 2003, 2008, 2011, 2008, 2006, 2007, 2003, 1977, 2011, 2007, 2010, 2001, 2002, 2006, 2008, 1977, 2011,1980, 2010]"
      ],
      "metadata": {
        "id": "SseM9IaFpj85"
      },
      "execution_count": null,
      "outputs": []
    },
    {
      "cell_type": "code",
      "source": [
        "# 결측치 값 대체함.\n",
        "df.loc[nan_Year,['Year']] = Year_change"
      ],
      "metadata": {
        "id": "wCJx75TUu0d_"
      },
      "execution_count": null,
      "outputs": []
    },
    {
      "cell_type": "code",
      "source": [
        "# 나머지 Year 컬럼의 결측치 값은 제거해줌\n",
        "df = df.drop(df[df.Year.isnull()].index).reset_index(drop=True)"
      ],
      "metadata": {
        "id": "iY6NU6bvvc2U"
      },
      "execution_count": null,
      "outputs": []
    },
    {
      "cell_type": "code",
      "source": [
        "df"
      ],
      "metadata": {
        "id": "VCAm63LLxF-j"
      },
      "execution_count": null,
      "outputs": []
    },
    {
      "cell_type": "code",
      "source": [
        "# Year 컬럼의 타입을 int로 바꿔주고, 이상치 제거.\n",
        "df.Year = df.Year.astype(int)\n",
        "plt.hist(df.Year)\n",
        "plt.xlim([1750,2020])"
      ],
      "metadata": {
        "id": "xLvbv4eCv5kf"
      },
      "execution_count": null,
      "outputs": []
    },
    {
      "cell_type": "code",
      "source": [
        "# 1800년 이하의 값들은 제거\n",
        "df = df.drop(df.query('Year < 1800').index).reset_index(drop=True)"
      ],
      "metadata": {
        "id": "1uBmiop8wYqR"
      },
      "execution_count": null,
      "outputs": []
    },
    {
      "cell_type": "code",
      "source": [
        "df.describe()"
      ],
      "metadata": {
        "id": "QkIIfk1L4yLH"
      },
      "execution_count": null,
      "outputs": []
    },
    {
      "cell_type": "markdown",
      "source": [
        "# **2. 지역에 따라서 선호하는 게임 장르가 다를까**"
      ],
      "metadata": {
        "id": "eJAYPEH918JZ"
      }
    },
    {
      "cell_type": "code",
      "source": [
        "# 지역 별 장르에 따른 출고량 합\n",
        "df.groupby('Genre').sum().iloc[:,1:]"
      ],
      "metadata": {
        "id": "HlP1UumH2IgG"
      },
      "execution_count": null,
      "outputs": []
    },
    {
      "cell_type": "code",
      "source": [
        "df_region = df.groupby('Genre').sum().iloc[:,1:];"
      ],
      "metadata": {
        "id": "G5rsf2tt2-Ik"
      },
      "execution_count": null,
      "outputs": []
    },
    {
      "cell_type": "code",
      "source": [
        "plt.figure(figsize=(30,15))\n",
        "plt.subplot(2,2,1)\n",
        "sns.barplot(df_region.index, df_region.NA_Sales, label='NA')\n",
        "plt.title('NA', size=20)\n",
        "plt.subplot(2,2,2)\n",
        "sns.barplot(df_region.index, df_region.EU_Sales, label='EU')\n",
        "plt.title('EU', size=20)\n",
        "plt.subplot(2,2,3)\n",
        "sns.barplot(df_region.index, df_region.JP_Sales, label='JP')\n",
        "plt.title('JP', size=20)\n",
        "plt.subplot(2,2,4)\n",
        "sns.barplot(df_region.index, df_region.Other_Sales, label='Other')\n",
        "plt.title('Other', size=20)\n",
        "plt.show()"
      ],
      "metadata": {
        "id": "_H_dsT2t3uxn"
      },
      "execution_count": null,
      "outputs": []
    },
    {
      "cell_type": "markdown",
      "source": [
        "1. 북미는 액션 장르의 게임을 가장 선호하고 뒤이어, 스포츠와 슈팅게임을 선호한다.\n",
        "2. 유럽은 액션 장르의 게임을 가장 선호하고 뒤이어, 스포츠와 슈팅게임을 선호한다.\n",
        "3. 일본은 RPG 장르의 게임을 가장 선호하고 뒤이어, 액션게임을 선호한다.\n",
        "4. 그 외의 지역에서는 액션 장르의 게임을 가장 선호하고 뒤이어, 스포츠와 슈팅게임을 선호한다."
      ],
      "metadata": {
        "id": "VurPqgzymTgb"
      }
    },
    {
      "cell_type": "markdown",
      "source": [
        "# 3.연도별 게임의 트렌드가 있을까"
      ],
      "metadata": {
        "id": "fF5B8-ZW46KN"
      }
    },
    {
      "cell_type": "code",
      "source": [
        "df_trend = df.sort_values(by = ['Year', 'Genre', 'Platform']).iloc[:,1:4].reset_index(drop=True)\n",
        "df_trend"
      ],
      "metadata": {
        "id": "1sBdN9XFotpF"
      },
      "execution_count": null,
      "outputs": []
    },
    {
      "cell_type": "code",
      "source": [
        "uni = df_trend.Year.unique()"
      ],
      "metadata": {
        "id": "nPdJ0Xfep1I8"
      },
      "execution_count": null,
      "outputs": []
    },
    {
      "cell_type": "code",
      "source": [
        "plt.figure(figsize=(50,30))\n",
        "plt.subplot(2,1,1)\n",
        "sns.countplot(df_trend.query('Year <= 1998').Year, hue = df_trend.query('Year <= 1998').Genre, dodge=False, palette='Dark2')\n",
        "plt.legend(loc='upper left', fontsize=25)\n",
        "plt.subplot(2,1,2)\n",
        "sns.countplot(df_trend.query('Year > 1998').Year, hue = df_trend.query('Year > 1998').Genre, dodge=False, palette='Dark2')\n",
        "plt.legend(loc='upper left', fontsize=25)"
      ],
      "metadata": {
        "id": "y8mu47J6--SB"
      },
      "execution_count": null,
      "outputs": []
    },
    {
      "cell_type": "code",
      "source": [
        "plt.figure(figsize=(50,30))\n",
        "plt.subplot(2,1,1)\n",
        "sns.countplot(df_trend.query('Year <= 1998').Year, hue = df_trend.query('Year <= 1998').Platform, dodge=False, palette='Dark2')\n",
        "plt.legend(loc='upper left', fontsize=20)\n",
        "plt.subplot(2,1,2)\n",
        "sns.countplot(df_trend.query('Year > 1998').Year, hue = df_trend.query('Year > 1998').Platform, dodge=False, palette='Dark2')\n",
        "plt.legend(loc='upper right', fontsize=20)"
      ],
      "metadata": {
        "id": "XrdvppdXMvR1"
      },
      "execution_count": null,
      "outputs": []
    },
    {
      "cell_type": "code",
      "source": [
        "df.query('Year == 2009').Genre.value_counts()"
      ],
      "metadata": {
        "id": "xO4Fkk_oTchd"
      },
      "execution_count": null,
      "outputs": []
    },
    {
      "cell_type": "markdown",
      "source": [
        "# 3. 출고량이 높은 게임에 대한 분석 및 시각화 프로세스"
      ],
      "metadata": {
        "id": "TDEUBwnzCIZi"
      }
    },
    {
      "cell_type": "code",
      "source": [
        "df['Sum_Sales'] = df.NA_Sales + df.EU_Sales + df.JP_Sales + df.Other_Sales"
      ],
      "metadata": {
        "id": "Ch6yH9MvCNPo"
      },
      "execution_count": null,
      "outputs": []
    },
    {
      "cell_type": "code",
      "source": [
        "best_df = df.sort_values(by = 'Sum_Sales', ascending=False).iloc[0:50, :].reset_index(drop=True)\n",
        "best_df"
      ],
      "metadata": {
        "id": "R6CD5JArCfGd"
      },
      "execution_count": null,
      "outputs": []
    },
    {
      "cell_type": "code",
      "source": [
        "plt.figure(figsize=(20,15))\n",
        "plt.pie(best_df.Genre.value_counts(), labels=best_df.Genre.value_counts().index, autopct='%.1f%%')"
      ],
      "metadata": {
        "id": "yB4eILaKsjBo"
      },
      "execution_count": null,
      "outputs": []
    },
    {
      "cell_type": "code",
      "source": [
        "plt.figure(figsize=(20,15))\n",
        "plt.pie(best_df.Platform.value_counts(), labels=best_df.Platform.value_counts().index, autopct='%.1f%%')"
      ],
      "metadata": {
        "id": "lpXE7YQIuV6K"
      },
      "execution_count": null,
      "outputs": []
    }
  ]
}